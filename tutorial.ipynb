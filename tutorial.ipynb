{
 "cells": [
  {
   "cell_type": "code",
   "id": "52240e604bec8672",
   "metadata": {},
   "source": [
    "import os\n",
    "\n",
    "import kagglehub\n",
    "\n",
    "# Download latest version\n",
    "directory = kagglehub.dataset_download(\"chitwanmanchanda/fraudulent-transactions-data\")\n",
    "path = os.path.join(directory, \"Fraud.csv\")"
   ],
   "outputs": [],
   "execution_count": null
  },
  {
   "cell_type": "code",
   "id": "bea01f9df90853a1",
   "metadata": {},
   "source": [
    "from daft.daft import connect_start\n",
    "from pyspark.sql import SparkSession\n",
    "\n",
    "# start Daft Connect (spark-connect compatible server)\n",
    "handle = connect_start()\n",
    "\n",
    "port = handle.port()\n",
    "print(f\"Daft Connect server started on port {port}\")\n",
    "\n",
    "# create a Spark Connect client connected to the Daft Connect server\n",
    "spark = SparkSession.builder.remote(f\"sc://localhost:{port}\").appName(\"DaftPySparkExample\").getOrCreate()"
   ],
   "outputs": [],
   "execution_count": null
  },
  {
   "cell_type": "code",
   "id": "da1cb80997b3f915",
   "metadata": {},
   "source": [
    "data = [[2021, \"test\", \"Albany\", \"M\", 42]]\n",
    "columns = [\"Year\", \"First_Name\", \"County\", \"Sex\", \"Count\"]\n",
    "\n",
    "df1 = spark.createDataFrame(data, schema=\"Year int, First_Name STRING, County STRING, Sex STRING, Count int\")\n",
    "df1.show()"
   ],
   "outputs": [],
   "execution_count": null
  },
  {
   "cell_type": "code",
   "id": "d7f471d89dedf29b",
   "metadata": {},
   "source": [
    "df = spark.read.csv(path, header=True, inferSchema=True, sep=\",\")\n",
    "\n",
    "df.show()"
   ],
   "outputs": [],
   "execution_count": null
  },
  {
   "metadata": {},
   "cell_type": "code",
   "source": [
    "from pyspark.sql import functions as F\n",
    "\n",
    "# First .where() filter DataFrame and return another DataFrame\n",
    "# Then .select() select from the returned DataFrame\n",
    "df.where(df['type']=='CASH_OUT').select(df.type, F.col('amount')).show(10)\n"
   ],
   "id": "ac6faab6bc17f434",
   "outputs": [],
   "execution_count": null
  }
 ],
 "metadata": {
  "kernelspec": {
   "display_name": "Python 3 (ipykernel)",
   "language": "python",
   "name": "python3"
  }
 },
 "nbformat": 4,
 "nbformat_minor": 5
}
